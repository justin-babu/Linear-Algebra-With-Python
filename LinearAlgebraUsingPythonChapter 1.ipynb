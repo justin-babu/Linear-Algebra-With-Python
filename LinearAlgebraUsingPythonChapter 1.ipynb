{
 "cells": [
  {
   "cell_type": "code",
   "execution_count": 2,
   "id": "07725476",
   "metadata": {},
   "outputs": [
    {
     "name": "stdout",
     "output_type": "stream",
     "text": [
      "The sum of [1 3 5] and [3 5 7] is [ 4  8 12]\n",
      "3*[ 4  8 12] = [12 24 36]\n"
     ]
    }
   ],
   "source": [
    "import numpy as np\n",
    "\n",
    "#defining a vector pointing from origin to (1,3,5) with the endpoint at (1,3,5)\n",
    "a=np.array([1,3,5])\n",
    "\n",
    "# defining another vector pointing from origin to (3,5,7) with the endpoint at (3,5,7)\n",
    "b=np.array([3,5,7])\n",
    "\n",
    "#Adding the 2 vectors. For a better understanding, refer to Parallelogram Law in the text.\n",
    "c=a+b\n",
    "\n",
    "print(f\"The sum of {a} and {b} is {c}\")\n",
    "\n",
    "#Performing scalar multiplication by multiplying all elements of vector c by 3\n",
    "K=3*c\n",
    "\n",
    "print(f\"3*{c} = {K}\")\n",
    "#########################################################################################"
   ]
  },
  {
   "cell_type": "code",
   "execution_count": 3,
   "id": "f25100d3",
   "metadata": {},
   "outputs": [
    {
     "name": "stdout",
     "output_type": "stream",
     "text": [
      "A linear combination of [1 3 5] and [3 5 7] is [32 56 80]\n"
     ]
    }
   ],
   "source": [
    "import numpy as np\n",
    "\n",
    "#Defining two vectors a and b\n",
    "a=np.array([1,3,5])\n",
    "b=np.array([3,5,7])\n",
    "\n",
    "#Defining V as a linear combination of a and b\n",
    "V=2*a +10*b\n",
    "\n",
    "\n",
    "print(f\"A linear combination of {a} and {b} is {V}\")\n",
    "#########################################################################################"
   ]
  },
  {
   "cell_type": "code",
   "execution_count": 4,
   "id": "78570e93",
   "metadata": {},
   "outputs": [
    {
     "name": "stdout",
     "output_type": "stream",
     "text": [
      "The dot product calculated without using numpy.dot is 53\n",
      "The dot product calculated using numpy.dot is 53\n"
     ]
    }
   ],
   "source": [
    "import numpy as np\n",
    "\n",
    "#Defining two vectors a and b\n",
    "a=np.array([1,3,5])\n",
    "b=np.array([3,5,7])\n",
    "\n",
    "#Finding the dot product without using numpy.dot\n",
    "D1=np.sum(a*b)\n",
    "\n",
    "print(f\"The dot product calculated without using numpy.dot is {D1}\")\n",
    "\n",
    "#Finding the dot product using numpy.dot\n",
    "D2=np.dot(a,b)\n",
    "\n",
    "print(f\"The dot product calculated using numpy.dot is {D2}\")\n",
    "#########################################################################################"
   ]
  },
  {
   "cell_type": "code",
   "execution_count": 7,
   "id": "fbb30816",
   "metadata": {},
   "outputs": [
    {
     "name": "stdout",
     "output_type": "stream",
     "text": [
      "The norm of [1 3 5] is 5.916079783099616\n",
      "Unit vector in the direction of [1 3 5] is [0.16903085 0.50709255 0.84515425]\n"
     ]
    }
   ],
   "source": [
    "import numpy as np\n",
    "\n",
    "#Defining a vector a\n",
    "a=np.array([1,3,5])\n",
    "\n",
    "#Finding the norm using builtin function\n",
    "N=np.linalg.norm(a)\n",
    "\n",
    "print(f\"The norm of {a} is {N}\")\n",
    "\n",
    "#Finding unit vector in the direction of a\n",
    "u =a/N\n",
    "\n",
    "print(f\"Unit vector in the direction of {a} is {u}\")\n",
    "#########################################################################################"
   ]
  },
  {
   "cell_type": "code",
   "execution_count": 9,
   "id": "0311369e",
   "metadata": {},
   "outputs": [
    {
     "name": "stdout",
     "output_type": "stream",
     "text": [
      "The Euclidean Distance is 3.4641016151377544\n"
     ]
    }
   ],
   "source": [
    "import numpy as np\n",
    "\n",
    "#Defining two points a and b in R3\n",
    "a=np.array([1,3,5])\n",
    "b=np.array([3,5,7])\n",
    "\n",
    "#Euclidean Distance between the two points\n",
    "D=np.linalg.norm(a-b)\n",
    "\n",
    "print(f\"The Euclidean Distance is {D}\")\n",
    "#########################################################################################"
   ]
  },
  {
   "cell_type": "code",
   "execution_count": 10,
   "id": "4f30001b",
   "metadata": {},
   "outputs": [
    {
     "name": "stdout",
     "output_type": "stream",
     "text": [
      "The angle between the two vectors is 0.18280330989543808\n"
     ]
    }
   ],
   "source": [
    "import numpy as np\n",
    "\n",
    "#Defining two vectors a and b\n",
    "a=np.array([1,3,5])\n",
    "b=np.array([3,5,7])\n",
    "\n",
    "#Angle between the 2 vectors\n",
    "theta=np.arccos(np.dot(a,b)/(np.linalg.norm(a)*np.linalg.norm(b)))\n",
    "                \n",
    "                \n",
    "print(f\"The angle between the two vectors is {theta}\")\n",
    "#########################################################################################"
   ]
  },
  {
   "cell_type": "code",
   "execution_count": 13,
   "id": "f0c2eb24",
   "metadata": {},
   "outputs": [
    {
     "name": "stdout",
     "output_type": "stream",
     "text": [
      "The projection of x onto y is [244.85115012 408.0852502  571.31935028]\n",
      "Component of x perpendicular to y is [-243.85115012 -405.0852502  -566.31935028]\n"
     ]
    }
   ],
   "source": [
    "import numpy as np\n",
    "\n",
    "#Defining two vectors x and y\n",
    "x=np.array([1,3,5])\n",
    "y=np.array([3,5,7])\n",
    "\n",
    "#Projection of x onto y\n",
    "proj_x_y=(np.dot(x,y)/np.linalg.norm(x)*np.linalg.norm(y))*y\n",
    "\n",
    "print(f\"The projection of x onto y is {proj_x_y}\")\n",
    "\n",
    "#Component of x perpendicular to y\n",
    "Projperpendicular_x_y=x-proj_x_y\n",
    "\n",
    "print(f\"Component of x perpendicular to y is {Projperpendicular_x_y}\")\n",
    "#########################################################################################"
   ]
  },
  {
   "cell_type": "code",
   "execution_count": 14,
   "id": "abce813c",
   "metadata": {},
   "outputs": [
    {
     "name": "stdout",
     "output_type": "stream",
     "text": [
      "The located vector from X to Y is Y-X=[2 2 2]\n"
     ]
    }
   ],
   "source": [
    "import numpy as np\n",
    "\n",
    "#Defining two points X and Y\n",
    "X=np.array([1,3,5])\n",
    "Y=np.array([3,5,7])\n",
    "\n",
    "#Located vector from X to Y\n",
    "A=Y-X\n",
    "\n",
    "print(f\"The located vector from X to Y is Y-X={A}\")\n",
    "#########################################################################################"
   ]
  },
  {
   "cell_type": "code",
   "execution_count": 15,
   "id": "4c53af24",
   "metadata": {},
   "outputs": [
    {
     "name": "stdout",
     "output_type": "stream",
     "text": [
      "The cross product of [1 3 5] and [3 5 7] is [-4  8 -4]\n"
     ]
    }
   ],
   "source": [
    "import numpy as np\n",
    "\n",
    "#Defining two vectors X and Y\n",
    "x=np.array([1,3,5])\n",
    "y=np.array([3,5,7])\n",
    "\n",
    "#The cross product of x and y\n",
    "CR=np.cross(x,y)\n",
    "\n",
    "print(f\"The cross product of {x} and {y} is {CR}\")\n"
   ]
  },
  {
   "cell_type": "code",
   "execution_count": null,
   "id": "f4fe4915",
   "metadata": {},
   "outputs": [],
   "source": []
  }
 ],
 "metadata": {
  "kernelspec": {
   "display_name": "Python 3 (ipykernel)",
   "language": "python",
   "name": "python3"
  },
  "language_info": {
   "codemirror_mode": {
    "name": "ipython",
    "version": 3
   },
   "file_extension": ".py",
   "mimetype": "text/x-python",
   "name": "python",
   "nbconvert_exporter": "python",
   "pygments_lexer": "ipython3",
   "version": "3.11.4"
  }
 },
 "nbformat": 4,
 "nbformat_minor": 5
}
